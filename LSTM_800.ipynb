{
  "nbformat": 4,
  "nbformat_minor": 0,
  "metadata": {
    "colab": {
      "provenance": []
    },
    "kernelspec": {
      "name": "python3",
      "display_name": "Python 3"
    },
    "language_info": {
      "name": "python"
    },
    "accelerator": "GPU",
    "gpuClass": "standard"
  },
  "cells": [
    {
      "cell_type": "code",
      "execution_count": 1,
      "metadata": {
        "id": "YYVudwV2HK8_"
      },
      "outputs": [],
      "source": [
        "import tensorflow as tf\n",
        "from tensorflow import keras\n",
        "from tensorflow.keras.layers import Input, Embedding, LSTM, Dense\n",
        "from tensorflow.keras.models import Model\n",
        "from tensorflow.keras.preprocessing.sequence import pad_sequences\n",
        "from sklearn.model_selection import train_test_split\n",
        "import numpy as np\n",
        "from keras.datasets import imdb\n"
      ]
    },
    {
      "cell_type": "code",
      "source": [
        "# Define data\n",
        "# set the maximum number of words to use\n",
        "max_num_words = 10000\n",
        "\n",
        "# set the maximum length of each sequence\n",
        "max_sequence_length = 800\n",
        "\n",
        "# load the IMDB dataset\n",
        "(x_train, y_train), (x_test, y_test) = imdb.load_data(num_words=max_num_words)\n",
        "\n",
        "# pad the sequences to a fixed length\n",
        "x_train = pad_sequences(x_train, maxlen=max_sequence_length)\n",
        "x_test = pad_sequences(x_test, maxlen=max_sequence_length)\n",
        "\n",
        "# print the shapes of the data\n",
        "print('x_train shape:', x_train.shape)\n",
        "print('y_train shape:', y_train.shape)\n",
        "print('x_test shape:', x_test.shape)\n",
        "print('y_test shape:', y_test.shape)\n"
      ],
      "metadata": {
        "id": "7cYXQDuQHXGq",
        "colab": {
          "base_uri": "https://localhost:8080/"
        },
        "outputId": "dcc40169-abc7-487e-cd6c-efdf47106d45"
      },
      "execution_count": 2,
      "outputs": [
        {
          "output_type": "stream",
          "name": "stdout",
          "text": [
            "Downloading data from https://storage.googleapis.com/tensorflow/tf-keras-datasets/imdb.npz\n",
            "17464789/17464789 [==============================] - 1s 0us/step\n",
            "x_train shape: (25000, 800)\n",
            "y_train shape: (25000,)\n",
            "x_test shape: (25000, 800)\n",
            "y_test shape: (25000,)\n"
          ]
        }
      ]
    },
    {
      "cell_type": "code",
      "source": [
        "# Define input shape\n",
        "input_shape = (800,)\n",
        "\n",
        "# Define input layer\n",
        "inputs = Input(shape=input_shape)\n",
        "\n",
        "# Define embedding layer\n",
        "embedding_size = 128\n",
        "vocab_size = 10000\n",
        "embeddings = Embedding(input_dim=vocab_size, output_dim=embedding_size)(inputs)\n",
        "\n",
        "# Define LSTM layer\n",
        "lstm_units = 64\n",
        "lstm_out = LSTM(units=lstm_units)(embeddings)\n",
        "\n",
        "# Define output layer\n",
        "outputs = Dense(1, activation='sigmoid')(lstm_out)\n",
        "\n",
        "# Define model\n",
        "model = Model(inputs=inputs, outputs=outputs)\n"
      ],
      "metadata": {
        "id": "Gqyt3pfUHYTX"
      },
      "execution_count": 3,
      "outputs": []
    },
    {
      "cell_type": "code",
      "source": [
        "# Compile model\n",
        "model.compile(optimizer='adam', loss='binary_crossentropy', metrics=['accuracy'])\n",
        "\n",
        "# print the model summary\n",
        "model.summary()\n",
        "\n",
        "# train the model\n",
        "model.fit(x_train, y_train, epochs=10, batch_size=32, validation_split=0.2, verbose=1)\n",
        "\n",
        "# Evaluate model\n",
        "loss, accuracy = model.evaluate(x_test, y_test, batch_size=1)\n",
        "print(f'Test loss: {loss}, Test accuracy: {accuracy}')\n"
      ],
      "metadata": {
        "colab": {
          "base_uri": "https://localhost:8080/"
        },
        "id": "BdQp-JsNHY2o",
        "outputId": "82460833-65c4-481e-a660-b09876b64bf4"
      },
      "execution_count": 4,
      "outputs": [
        {
          "output_type": "stream",
          "name": "stdout",
          "text": [
            "Model: \"model\"\n",
            "_________________________________________________________________\n",
            " Layer (type)                Output Shape              Param #   \n",
            "=================================================================\n",
            " input_1 (InputLayer)        [(None, 800)]             0         \n",
            "                                                                 \n",
            " embedding (Embedding)       (None, 800, 128)          1280000   \n",
            "                                                                 \n",
            " lstm (LSTM)                 (None, 64)                49408     \n",
            "                                                                 \n",
            " dense (Dense)               (None, 1)                 65        \n",
            "                                                                 \n",
            "=================================================================\n",
            "Total params: 1,329,473\n",
            "Trainable params: 1,329,473\n",
            "Non-trainable params: 0\n",
            "_________________________________________________________________\n",
            "Epoch 1/10\n",
            "625/625 [==============================] - 121s 182ms/step - loss: 0.4535 - accuracy: 0.7843 - val_loss: 0.3840 - val_accuracy: 0.8306\n",
            "Epoch 2/10\n",
            "625/625 [==============================] - 55s 87ms/step - loss: 0.2727 - accuracy: 0.8925 - val_loss: 0.3293 - val_accuracy: 0.8692\n",
            "Epoch 3/10\n",
            "625/625 [==============================] - 33s 52ms/step - loss: 0.1888 - accuracy: 0.9287 - val_loss: 0.3320 - val_accuracy: 0.8748\n",
            "Epoch 4/10\n",
            "625/625 [==============================] - 30s 49ms/step - loss: 0.1603 - accuracy: 0.9408 - val_loss: 0.3593 - val_accuracy: 0.8712\n",
            "Epoch 5/10\n",
            "625/625 [==============================] - 24s 39ms/step - loss: 0.1034 - accuracy: 0.9639 - val_loss: 0.4150 - val_accuracy: 0.8660\n",
            "Epoch 6/10\n",
            "625/625 [==============================] - 23s 36ms/step - loss: 0.0822 - accuracy: 0.9707 - val_loss: 0.4913 - val_accuracy: 0.8568\n",
            "Epoch 7/10\n",
            "625/625 [==============================] - 22s 36ms/step - loss: 0.0841 - accuracy: 0.9687 - val_loss: 0.5306 - val_accuracy: 0.7988\n",
            "Epoch 8/10\n",
            "625/625 [==============================] - 22s 36ms/step - loss: 0.1239 - accuracy: 0.9551 - val_loss: 0.4868 - val_accuracy: 0.8552\n",
            "Epoch 9/10\n",
            "625/625 [==============================] - 22s 35ms/step - loss: 0.0410 - accuracy: 0.9862 - val_loss: 0.5797 - val_accuracy: 0.8510\n",
            "Epoch 10/10\n",
            "625/625 [==============================] - 21s 33ms/step - loss: 0.0254 - accuracy: 0.9926 - val_loss: 0.6398 - val_accuracy: 0.8370\n",
            "25000/25000 [==============================] - 290s 12ms/step - loss: 0.6200 - accuracy: 0.8415\n",
            "Test loss: 0.6199719309806824, Test accuracy: 0.841480016708374\n"
          ]
        }
      ]
    },
    {
      "cell_type": "code",
      "source": [],
      "metadata": {
        "id": "24TVeFP4HZ5A"
      },
      "execution_count": 4,
      "outputs": []
    }
  ]
}