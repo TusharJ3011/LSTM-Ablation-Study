{
  "nbformat": 4,
  "nbformat_minor": 0,
  "metadata": {
    "colab": {
      "provenance": []
    },
    "kernelspec": {
      "name": "python3",
      "display_name": "Python 3"
    },
    "language_info": {
      "name": "python"
    }
  },
  "cells": [
    {
      "cell_type": "code",
      "execution_count": 5,
      "metadata": {
        "id": "YYVudwV2HK8_"
      },
      "outputs": [],
      "source": [
        "import tensorflow as tf\n",
        "from tensorflow import keras\n",
        "from tensorflow.keras.layers import Input, Embedding, LSTM, Dense\n",
        "from tensorflow.keras.models import Model\n",
        "from tensorflow.keras.preprocessing.sequence import pad_sequences\n",
        "from sklearn.model_selection import train_test_split\n",
        "import numpy as np\n",
        "from keras.datasets import imdb\n"
      ]
    },
    {
      "cell_type": "code",
      "source": [
        "# Define data\n",
        "# set the maximum number of words to use\n",
        "max_num_words = 10000\n",
        "\n",
        "# set the maximum length of each sequence\n",
        "max_sequence_length = 200\n",
        "\n",
        "# load the IMDB dataset\n",
        "(x_train, y_train), (x_test, y_test) = imdb.load_data(num_words=max_num_words)\n",
        "\n",
        "# pad the sequences to a fixed length\n",
        "x_train = pad_sequences(x_train, maxlen=max_sequence_length)\n",
        "x_test = pad_sequences(x_test, maxlen=max_sequence_length)\n",
        "\n",
        "# print the shapes of the data\n",
        "print('x_train shape:', x_train.shape)\n",
        "print('y_train shape:', y_train.shape)\n",
        "print('x_test shape:', x_test.shape)\n",
        "print('y_test shape:', y_test.shape)\n"
      ],
      "metadata": {
        "id": "7cYXQDuQHXGq",
        "colab": {
          "base_uri": "https://localhost:8080/"
        },
        "outputId": "87723f57-e144-4739-b4d4-0972824c8774"
      },
      "execution_count": 6,
      "outputs": [
        {
          "output_type": "stream",
          "name": "stdout",
          "text": [
            "x_train shape: (25000, 200)\n",
            "y_train shape: (25000,)\n",
            "x_test shape: (25000, 200)\n",
            "y_test shape: (25000,)\n"
          ]
        }
      ]
    },
    {
      "cell_type": "code",
      "source": [
        "# Define input shape\n",
        "input_shape = (200,)\n",
        "\n",
        "# Define input layer\n",
        "inputs = Input(shape=input_shape)\n",
        "\n",
        "# Define embedding layer\n",
        "embedding_size = 128\n",
        "vocab_size = 10000\n",
        "embeddings = Embedding(input_dim=vocab_size, output_dim=embedding_size)(inputs)\n",
        "\n",
        "# Define LSTM layer\n",
        "lstm_units = 64\n",
        "lstm_out = LSTM(units=lstm_units)(embeddings)\n",
        "\n",
        "# Define output layer\n",
        "outputs = Dense(1, activation='sigmoid')(lstm_out)\n",
        "\n",
        "# Define model\n",
        "model = Model(inputs=inputs, outputs=outputs)\n"
      ],
      "metadata": {
        "id": "Gqyt3pfUHYTX"
      },
      "execution_count": 7,
      "outputs": []
    },
    {
      "cell_type": "code",
      "source": [
        "# Compile model\n",
        "model.compile(optimizer='adam', loss='binary_crossentropy', metrics=['accuracy'])\n",
        "\n",
        "# print the model summary\n",
        "model.summary()\n",
        "\n",
        "# train the model\n",
        "model.fit(x_train, y_train, epochs=10, batch_size=32, validation_split=0.2, verbose=1)\n",
        "\n",
        "# Evaluate model\n",
        "loss, accuracy = model.evaluate(x_test, y_test, batch_size=1)\n",
        "print(f'Test loss: {loss}, Test accuracy: {accuracy}')\n"
      ],
      "metadata": {
        "colab": {
          "base_uri": "https://localhost:8080/"
        },
        "id": "BdQp-JsNHY2o",
        "outputId": "0af9b873-0f2f-42ae-f610-5098f5778e63"
      },
      "execution_count": 8,
      "outputs": [
        {
          "output_type": "stream",
          "name": "stdout",
          "text": [
            "Model: \"model_1\"\n",
            "_________________________________________________________________\n",
            " Layer (type)                Output Shape              Param #   \n",
            "=================================================================\n",
            " input_2 (InputLayer)        [(None, 200)]             0         \n",
            "                                                                 \n",
            " embedding_1 (Embedding)     (None, 200, 128)          1280000   \n",
            "                                                                 \n",
            " lstm_1 (LSTM)               (None, 64)                49408     \n",
            "                                                                 \n",
            " dense_1 (Dense)             (None, 1)                 65        \n",
            "                                                                 \n",
            "=================================================================\n",
            "Total params: 1,329,473\n",
            "Trainable params: 1,329,473\n",
            "Non-trainable params: 0\n",
            "_________________________________________________________________\n",
            "Epoch 1/10\n",
            "625/625 [==============================] - 101s 159ms/step - loss: 0.4194 - accuracy: 0.8079 - val_loss: 0.3272 - val_accuracy: 0.8634\n",
            "Epoch 2/10\n",
            "625/625 [==============================] - 94s 150ms/step - loss: 0.2460 - accuracy: 0.9044 - val_loss: 0.3261 - val_accuracy: 0.8658\n",
            "Epoch 3/10\n",
            "625/625 [==============================] - 94s 151ms/step - loss: 0.1701 - accuracy: 0.9383 - val_loss: 0.4036 - val_accuracy: 0.8640\n",
            "Epoch 4/10\n",
            "625/625 [==============================] - 94s 150ms/step - loss: 0.1232 - accuracy: 0.9559 - val_loss: 0.4431 - val_accuracy: 0.8528\n",
            "Epoch 5/10\n",
            "625/625 [==============================] - 96s 153ms/step - loss: 0.0953 - accuracy: 0.9674 - val_loss: 0.4732 - val_accuracy: 0.8614\n",
            "Epoch 6/10\n",
            "625/625 [==============================] - 95s 152ms/step - loss: 0.0873 - accuracy: 0.9697 - val_loss: 0.4528 - val_accuracy: 0.8640\n",
            "Epoch 7/10\n",
            "625/625 [==============================] - 94s 150ms/step - loss: 0.0632 - accuracy: 0.9788 - val_loss: 0.5567 - val_accuracy: 0.8338\n",
            "Epoch 8/10\n",
            "625/625 [==============================] - 94s 151ms/step - loss: 0.0465 - accuracy: 0.9848 - val_loss: 0.5782 - val_accuracy: 0.8656\n",
            "Epoch 9/10\n",
            "625/625 [==============================] - 95s 152ms/step - loss: 0.0340 - accuracy: 0.9893 - val_loss: 0.6251 - val_accuracy: 0.8400\n",
            "Epoch 10/10\n",
            "625/625 [==============================] - 94s 150ms/step - loss: 0.0287 - accuracy: 0.9911 - val_loss: 0.5708 - val_accuracy: 0.8444\n",
            "25000/25000 [==============================] - 321s 13ms/step - loss: 0.6053 - accuracy: 0.8418\n",
            "Test loss: 0.6053016185760498, Test accuracy: 0.8417999744415283\n"
          ]
        }
      ]
    },
    {
      "cell_type": "code",
      "source": [],
      "metadata": {
        "id": "24TVeFP4HZ5A"
      },
      "execution_count": 8,
      "outputs": []
    }
  ]
}