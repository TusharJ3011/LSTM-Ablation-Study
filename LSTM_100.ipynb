{
  "nbformat": 4,
  "nbformat_minor": 0,
  "metadata": {
    "colab": {
      "provenance": []
    },
    "kernelspec": {
      "name": "python3",
      "display_name": "Python 3"
    },
    "language_info": {
      "name": "python"
    }
  },
  "cells": [
    {
      "cell_type": "code",
      "execution_count": 5,
      "metadata": {
        "id": "YYVudwV2HK8_"
      },
      "outputs": [],
      "source": [
        "import tensorflow as tf\n",
        "from tensorflow import keras\n",
        "from tensorflow.keras.layers import Input, Embedding, LSTM, Dense\n",
        "from tensorflow.keras.models import Model\n",
        "from tensorflow.keras.preprocessing.sequence import pad_sequences\n",
        "from sklearn.model_selection import train_test_split\n",
        "import numpy as np\n",
        "from keras.datasets import imdb\n"
      ]
    },
    {
      "cell_type": "code",
      "source": [
        "# Define data\n",
        "# set the maximum number of words to use\n",
        "max_num_words = 10000\n",
        "\n",
        "# set the maximum length of each sequence\n",
        "max_sequence_length = 100\n",
        "\n",
        "# load the IMDB dataset\n",
        "(x_train, y_train), (x_test, y_test) = imdb.load_data(num_words=max_num_words)\n",
        "\n",
        "# pad the sequences to a fixed length\n",
        "x_train = pad_sequences(x_train, maxlen=max_sequence_length)\n",
        "x_test = pad_sequences(x_test, maxlen=max_sequence_length)\n",
        "\n",
        "# print the shapes of the data\n",
        "print('x_train shape:', x_train.shape)\n",
        "print('y_train shape:', y_train.shape)\n",
        "print('x_test shape:', x_test.shape)\n",
        "print('y_test shape:', y_test.shape)\n"
      ],
      "metadata": {
        "id": "7cYXQDuQHXGq",
        "colab": {
          "base_uri": "https://localhost:8080/"
        },
        "outputId": "33867cc0-e9e6-4abb-d87b-866a34eb98ac"
      },
      "execution_count": 6,
      "outputs": [
        {
          "output_type": "stream",
          "name": "stdout",
          "text": [
            "x_train shape: (25000, 100)\n",
            "y_train shape: (25000,)\n",
            "x_test shape: (25000, 100)\n",
            "y_test shape: (25000,)\n"
          ]
        }
      ]
    },
    {
      "cell_type": "code",
      "source": [
        "# Define input shape\n",
        "input_shape = (100,)\n",
        "\n",
        "# Define input layer\n",
        "inputs = Input(shape=input_shape)\n",
        "\n",
        "# Define embedding layer\n",
        "embedding_size = 128\n",
        "vocab_size = 10000\n",
        "embeddings = Embedding(input_dim=vocab_size, output_dim=embedding_size)(inputs)\n",
        "\n",
        "# Define LSTM layer\n",
        "lstm_units = 64\n",
        "lstm_out = LSTM(units=lstm_units)(embeddings)\n",
        "\n",
        "# Define output layer\n",
        "outputs = Dense(1, activation='sigmoid')(lstm_out)\n",
        "\n",
        "# Define model\n",
        "model = Model(inputs=inputs, outputs=outputs)\n"
      ],
      "metadata": {
        "id": "Gqyt3pfUHYTX"
      },
      "execution_count": 7,
      "outputs": []
    },
    {
      "cell_type": "code",
      "source": [
        "# Compile model\n",
        "model.compile(optimizer='adam', loss='binary_crossentropy', metrics=['accuracy'])\n",
        "\n",
        "# print the model summary\n",
        "model.summary()\n",
        "\n",
        "# train the model\n",
        "model.fit(x_train, y_train, epochs=10, batch_size=32, validation_split=0.2, verbose=1)\n",
        "\n",
        "# Evaluate model\n",
        "loss, accuracy = model.evaluate(x_test, y_test, batch_size=1)\n",
        "print(f'Test loss: {loss}, Test accuracy: {accuracy}')\n"
      ],
      "metadata": {
        "colab": {
          "base_uri": "https://localhost:8080/"
        },
        "id": "BdQp-JsNHY2o",
        "outputId": "b8889527-9c7d-460c-8b17-1d7b2d434b26"
      },
      "execution_count": 8,
      "outputs": [
        {
          "output_type": "stream",
          "name": "stdout",
          "text": [
            "Model: \"model_1\"\n",
            "_________________________________________________________________\n",
            " Layer (type)                Output Shape              Param #   \n",
            "=================================================================\n",
            " input_2 (InputLayer)        [(None, 100)]             0         \n",
            "                                                                 \n",
            " embedding_1 (Embedding)     (None, 100, 128)          1280000   \n",
            "                                                                 \n",
            " lstm_1 (LSTM)               (None, 64)                49408     \n",
            "                                                                 \n",
            " dense_1 (Dense)             (None, 1)                 65        \n",
            "                                                                 \n",
            "=================================================================\n",
            "Total params: 1,329,473\n",
            "Trainable params: 1,329,473\n",
            "Non-trainable params: 0\n",
            "_________________________________________________________________\n",
            "Epoch 1/10\n",
            "625/625 [==============================] - 67s 103ms/step - loss: 0.4133 - accuracy: 0.8091 - val_loss: 0.3503 - val_accuracy: 0.8424\n",
            "Epoch 2/10\n",
            "625/625 [==============================] - 63s 100ms/step - loss: 0.2493 - accuracy: 0.9008 - val_loss: 0.3628 - val_accuracy: 0.8414\n",
            "Epoch 3/10\n",
            "625/625 [==============================] - 61s 98ms/step - loss: 0.1681 - accuracy: 0.9377 - val_loss: 0.4094 - val_accuracy: 0.8432\n",
            "Epoch 4/10\n",
            "625/625 [==============================] - 65s 104ms/step - loss: 0.1198 - accuracy: 0.9567 - val_loss: 0.4570 - val_accuracy: 0.8250\n",
            "Epoch 5/10\n",
            "625/625 [==============================] - 63s 100ms/step - loss: 0.0949 - accuracy: 0.9676 - val_loss: 0.5592 - val_accuracy: 0.8380\n",
            "Epoch 6/10\n",
            "625/625 [==============================] - 63s 100ms/step - loss: 0.0710 - accuracy: 0.9772 - val_loss: 0.6015 - val_accuracy: 0.8328\n",
            "Epoch 7/10\n",
            "625/625 [==============================] - 63s 101ms/step - loss: 0.0481 - accuracy: 0.9841 - val_loss: 0.6912 - val_accuracy: 0.8328\n",
            "Epoch 8/10\n",
            "625/625 [==============================] - 61s 98ms/step - loss: 0.0453 - accuracy: 0.9855 - val_loss: 0.6977 - val_accuracy: 0.8310\n",
            "Epoch 9/10\n",
            "625/625 [==============================] - 64s 103ms/step - loss: 0.0413 - accuracy: 0.9863 - val_loss: 0.8357 - val_accuracy: 0.8282\n",
            "Epoch 10/10\n",
            "625/625 [==============================] - 64s 103ms/step - loss: 0.0217 - accuracy: 0.9939 - val_loss: 0.8201 - val_accuracy: 0.8284\n",
            "25000/25000 [==============================] - 218s 9ms/step - loss: 0.8470 - accuracy: 0.8190\n",
            "Test loss: 0.8469516634941101, Test accuracy: 0.8190000057220459\n"
          ]
        }
      ]
    },
    {
      "cell_type": "code",
      "source": [],
      "metadata": {
        "id": "24TVeFP4HZ5A"
      },
      "execution_count": 8,
      "outputs": []
    }
  ]
}