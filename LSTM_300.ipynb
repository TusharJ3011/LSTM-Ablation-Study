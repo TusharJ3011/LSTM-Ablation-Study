{
  "nbformat": 4,
  "nbformat_minor": 0,
  "metadata": {
    "colab": {
      "provenance": []
    },
    "kernelspec": {
      "name": "python3",
      "display_name": "Python 3"
    },
    "language_info": {
      "name": "python"
    }
  },
  "cells": [
    {
      "cell_type": "code",
      "execution_count": 5,
      "metadata": {
        "id": "YYVudwV2HK8_"
      },
      "outputs": [],
      "source": [
        "import tensorflow as tf\n",
        "from tensorflow import keras\n",
        "from tensorflow.keras.layers import Input, Embedding, LSTM, Dense\n",
        "from tensorflow.keras.models import Model\n",
        "from tensorflow.keras.preprocessing.sequence import pad_sequences\n",
        "from sklearn.model_selection import train_test_split\n",
        "import numpy as np\n",
        "from keras.datasets import imdb\n"
      ]
    },
    {
      "cell_type": "code",
      "source": [
        "# Define data\n",
        "# set the maximum number of words to use\n",
        "max_num_words = 10000\n",
        "\n",
        "# set the maximum length of each sequence\n",
        "max_sequence_length = 300\n",
        "\n",
        "# load the IMDB dataset\n",
        "(x_train, y_train), (x_test, y_test) = imdb.load_data(num_words=max_num_words)\n",
        "\n",
        "# pad the sequences to a fixed length\n",
        "x_train = pad_sequences(x_train, maxlen=max_sequence_length)\n",
        "x_test = pad_sequences(x_test, maxlen=max_sequence_length)\n",
        "\n",
        "# print the shapes of the data\n",
        "print('x_train shape:', x_train.shape)\n",
        "print('y_train shape:', y_train.shape)\n",
        "print('x_test shape:', x_test.shape)\n",
        "print('y_test shape:', y_test.shape)\n"
      ],
      "metadata": {
        "id": "7cYXQDuQHXGq",
        "colab": {
          "base_uri": "https://localhost:8080/"
        },
        "outputId": "ceafc00a-6e91-4b3e-8c72-241dc403fdd4"
      },
      "execution_count": 6,
      "outputs": [
        {
          "output_type": "stream",
          "name": "stdout",
          "text": [
            "x_train shape: (25000, 300)\n",
            "y_train shape: (25000,)\n",
            "x_test shape: (25000, 300)\n",
            "y_test shape: (25000,)\n"
          ]
        }
      ]
    },
    {
      "cell_type": "code",
      "source": [
        "# Define input shape\n",
        "input_shape = (300,)\n",
        "\n",
        "# Define input layer\n",
        "inputs = Input(shape=input_shape)\n",
        "\n",
        "# Define embedding layer\n",
        "embedding_size = 128\n",
        "vocab_size = 10000\n",
        "embeddings = Embedding(input_dim=vocab_size, output_dim=embedding_size)(inputs)\n",
        "\n",
        "# Define LSTM layer\n",
        "lstm_units = 64\n",
        "lstm_out = LSTM(units=lstm_units)(embeddings)\n",
        "\n",
        "# Define output layer\n",
        "outputs = Dense(1, activation='sigmoid')(lstm_out)\n",
        "\n",
        "# Define model\n",
        "model = Model(inputs=inputs, outputs=outputs)\n"
      ],
      "metadata": {
        "id": "Gqyt3pfUHYTX"
      },
      "execution_count": 7,
      "outputs": []
    },
    {
      "cell_type": "code",
      "source": [
        "# Compile model\n",
        "model.compile(optimizer='adam', loss='binary_crossentropy', metrics=['accuracy'])\n",
        "\n",
        "# print the model summary\n",
        "model.summary()\n",
        "\n",
        "# train the model\n",
        "model.fit(x_train, y_train, epochs=10, batch_size=32, validation_split=0.2, verbose=1)\n",
        "\n",
        "# Evaluate model\n",
        "loss, accuracy = model.evaluate(x_test, y_test, batch_size=1)\n",
        "print(f'Test loss: {loss}, Test accuracy: {accuracy}')\n"
      ],
      "metadata": {
        "colab": {
          "base_uri": "https://localhost:8080/"
        },
        "id": "BdQp-JsNHY2o",
        "outputId": "1f0f3b09-4ffa-4893-e75d-c18c4cc06363"
      },
      "execution_count": 8,
      "outputs": [
        {
          "output_type": "stream",
          "name": "stdout",
          "text": [
            "Model: \"model_1\"\n",
            "_________________________________________________________________\n",
            " Layer (type)                Output Shape              Param #   \n",
            "=================================================================\n",
            " input_2 (InputLayer)        [(None, 300)]             0         \n",
            "                                                                 \n",
            " embedding_1 (Embedding)     (None, 300, 128)          1280000   \n",
            "                                                                 \n",
            " lstm_1 (LSTM)               (None, 64)                49408     \n",
            "                                                                 \n",
            " dense_1 (Dense)             (None, 1)                 65        \n",
            "                                                                 \n",
            "=================================================================\n",
            "Total params: 1,329,473\n",
            "Trainable params: 1,329,473\n",
            "Non-trainable params: 0\n",
            "_________________________________________________________________\n",
            "Epoch 1/10\n",
            "625/625 [==============================] - 169s 267ms/step - loss: 0.4409 - accuracy: 0.7951 - val_loss: 0.3617 - val_accuracy: 0.8468\n",
            "Epoch 2/10\n",
            "625/625 [==============================] - 168s 268ms/step - loss: 0.2706 - accuracy: 0.8946 - val_loss: 0.3065 - val_accuracy: 0.8752\n",
            "Epoch 3/10\n",
            "625/625 [==============================] - 165s 263ms/step - loss: 0.1820 - accuracy: 0.9315 - val_loss: 0.4462 - val_accuracy: 0.8552\n",
            "Epoch 4/10\n",
            "625/625 [==============================] - 169s 271ms/step - loss: 0.1281 - accuracy: 0.9548 - val_loss: 0.3824 - val_accuracy: 0.8688\n",
            "Epoch 5/10\n",
            "625/625 [==============================] - 167s 267ms/step - loss: 0.1008 - accuracy: 0.9638 - val_loss: 0.4515 - val_accuracy: 0.8654\n",
            "Epoch 6/10\n",
            "625/625 [==============================] - 166s 265ms/step - loss: 0.0788 - accuracy: 0.9732 - val_loss: 0.5384 - val_accuracy: 0.8204\n",
            "Epoch 7/10\n",
            "625/625 [==============================] - 168s 269ms/step - loss: 0.0809 - accuracy: 0.9721 - val_loss: 0.5907 - val_accuracy: 0.8476\n",
            "Epoch 8/10\n",
            "625/625 [==============================] - 167s 267ms/step - loss: 0.0384 - accuracy: 0.9881 - val_loss: 0.5634 - val_accuracy: 0.8596\n",
            "Epoch 9/10\n",
            "625/625 [==============================] - 169s 270ms/step - loss: 0.0414 - accuracy: 0.9865 - val_loss: 0.5878 - val_accuracy: 0.8612\n",
            "Epoch 10/10\n",
            "625/625 [==============================] - 168s 269ms/step - loss: 0.0369 - accuracy: 0.9883 - val_loss: 0.5920 - val_accuracy: 0.8508\n",
            "25000/25000 [==============================] - 558s 22ms/step - loss: 0.6219 - accuracy: 0.8468\n",
            "Test loss: 0.6218860745429993, Test accuracy: 0.8468000292778015\n"
          ]
        }
      ]
    },
    {
      "cell_type": "code",
      "source": [],
      "metadata": {
        "id": "24TVeFP4HZ5A"
      },
      "execution_count": 8,
      "outputs": []
    }
  ]
}