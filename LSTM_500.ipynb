{
  "nbformat": 4,
  "nbformat_minor": 0,
  "metadata": {
    "colab": {
      "provenance": []
    },
    "kernelspec": {
      "name": "python3",
      "display_name": "Python 3"
    },
    "language_info": {
      "name": "python"
    },
    "accelerator": "GPU",
    "gpuClass": "standard"
  },
  "cells": [
    {
      "cell_type": "code",
      "execution_count": null,
      "metadata": {
        "id": "YYVudwV2HK8_"
      },
      "outputs": [],
      "source": [
        "import tensorflow as tf\n",
        "from tensorflow import keras\n",
        "from tensorflow.keras.layers import Input, Embedding, LSTM, Dense\n",
        "from tensorflow.keras.models import Model\n",
        "from tensorflow.keras.preprocessing.sequence import pad_sequences\n",
        "from sklearn.model_selection import train_test_split\n",
        "import numpy as np\n",
        "from keras.datasets import imdb\n"
      ]
    },
    {
      "cell_type": "code",
      "source": [
        "# Define data\n",
        "# set the maximum number of words to use\n",
        "max_num_words = 10000\n",
        "\n",
        "# set the maximum length of each sequence\n",
        "max_sequence_length = 500\n",
        "\n",
        "# load the IMDB dataset\n",
        "(x_train, y_train), (x_test, y_test) = imdb.load_data(num_words=max_num_words)\n",
        "\n",
        "# pad the sequences to a fixed length\n",
        "x_train = pad_sequences(x_train, maxlen=max_sequence_length)\n",
        "x_test = pad_sequences(x_test, maxlen=max_sequence_length)\n",
        "\n",
        "# print the shapes of the data\n",
        "print('x_train shape:', x_train.shape)\n",
        "print('y_train shape:', y_train.shape)\n",
        "print('x_test shape:', x_test.shape)\n",
        "print('y_test shape:', y_test.shape)\n"
      ],
      "metadata": {
        "id": "7cYXQDuQHXGq",
        "colab": {
          "base_uri": "https://localhost:8080/"
        },
        "outputId": "6768ab34-b41a-4a70-e56e-ab6c214d23b4"
      },
      "execution_count": null,
      "outputs": [
        {
          "output_type": "stream",
          "name": "stdout",
          "text": [
            "Downloading data from https://storage.googleapis.com/tensorflow/tf-keras-datasets/imdb.npz\n",
            "17464789/17464789 [==============================] - 2s 0us/step\n",
            "x_train shape: (25000, 500)\n",
            "y_train shape: (25000,)\n",
            "x_test shape: (25000, 500)\n",
            "y_test shape: (25000,)\n"
          ]
        }
      ]
    },
    {
      "cell_type": "code",
      "source": [
        "# Define input shape\n",
        "input_shape = (500,)\n",
        "\n",
        "# Define input layer\n",
        "inputs = Input(shape=input_shape)\n",
        "\n",
        "# Define embedding layer\n",
        "embedding_size = 128\n",
        "vocab_size = 10000\n",
        "embeddings = Embedding(input_dim=vocab_size, output_dim=embedding_size)(inputs)\n",
        "\n",
        "# Define LSTM layer\n",
        "lstm_units = 64\n",
        "lstm_out = LSTM(units=lstm_units)(embeddings)\n",
        "\n",
        "# Define output layer\n",
        "outputs = Dense(1, activation='sigmoid')(lstm_out)\n",
        "\n",
        "# Define model\n",
        "model = Model(inputs=inputs, outputs=outputs)\n"
      ],
      "metadata": {
        "id": "Gqyt3pfUHYTX"
      },
      "execution_count": null,
      "outputs": []
    },
    {
      "cell_type": "code",
      "source": [
        "# Compile model\n",
        "model.compile(optimizer='adam', loss='binary_crossentropy', metrics=['accuracy'])\n",
        "\n",
        "# print the model summary\n",
        "model.summary()\n",
        "\n",
        "# train the model\n",
        "model.fit(x_train, y_train, epochs=10, batch_size=32, validation_split=0.2, verbose=1)\n",
        "\n",
        "# Evaluate model\n",
        "loss, accuracy = model.evaluate(x_test, y_test, batch_size=1)\n",
        "print(f'Test loss: {loss}, Test accuracy: {accuracy}')\n"
      ],
      "metadata": {
        "colab": {
          "base_uri": "https://localhost:8080/"
        },
        "id": "BdQp-JsNHY2o",
        "outputId": "a7e33bed-1a3d-490e-bdfe-39e4fa3669ef"
      },
      "execution_count": null,
      "outputs": [
        {
          "output_type": "stream",
          "name": "stdout",
          "text": [
            "Model: \"model\"\n",
            "_________________________________________________________________\n",
            " Layer (type)                Output Shape              Param #   \n",
            "=================================================================\n",
            " input_1 (InputLayer)        [(None, 500)]             0         \n",
            "                                                                 \n",
            " embedding (Embedding)       (None, 500, 128)          1280000   \n",
            "                                                                 \n",
            " lstm (LSTM)                 (None, 64)                49408     \n",
            "                                                                 \n",
            " dense (Dense)               (None, 1)                 65        \n",
            "                                                                 \n",
            "=================================================================\n",
            "Total params: 1,329,473\n",
            "Trainable params: 1,329,473\n",
            "Non-trainable params: 0\n",
            "_________________________________________________________________\n",
            "Epoch 1/10\n",
            "625/625 [==============================] - 102s 152ms/step - loss: 0.4402 - accuracy: 0.7937 - val_loss: 0.3609 - val_accuracy: 0.8436\n",
            "Epoch 2/10\n",
            "625/625 [==============================] - 44s 71ms/step - loss: 0.2584 - accuracy: 0.8989 - val_loss: 0.3393 - val_accuracy: 0.8692\n",
            "Epoch 3/10\n",
            "625/625 [==============================] - 28s 44ms/step - loss: 0.2334 - accuracy: 0.9090 - val_loss: 0.6303 - val_accuracy: 0.6520\n",
            "Epoch 4/10\n",
            "625/625 [==============================] - 19s 31ms/step - loss: 0.2665 - accuracy: 0.8870 - val_loss: 0.3596 - val_accuracy: 0.8618\n",
            "Epoch 5/10\n",
            "625/625 [==============================] - 18s 28ms/step - loss: 0.1405 - accuracy: 0.9459 - val_loss: 0.4291 - val_accuracy: 0.8312\n",
            "Epoch 6/10\n",
            "625/625 [==============================] - 15s 25ms/step - loss: 0.1319 - accuracy: 0.9493 - val_loss: 0.3856 - val_accuracy: 0.8556\n",
            "Epoch 7/10\n",
            "625/625 [==============================] - 15s 24ms/step - loss: 0.1293 - accuracy: 0.9542 - val_loss: 0.3952 - val_accuracy: 0.8706\n",
            "Epoch 8/10\n",
            "625/625 [==============================] - 17s 27ms/step - loss: 0.0568 - accuracy: 0.9819 - val_loss: 0.4721 - val_accuracy: 0.8674\n",
            "Epoch 9/10\n",
            "625/625 [==============================] - 16s 25ms/step - loss: 0.0352 - accuracy: 0.9901 - val_loss: 0.5373 - val_accuracy: 0.8746\n",
            "Epoch 10/10\n",
            "625/625 [==============================] - 15s 23ms/step - loss: 0.0264 - accuracy: 0.9930 - val_loss: 0.5526 - val_accuracy: 0.8724\n",
            "25000/25000 [==============================] - 209s 8ms/step - loss: 0.5998 - accuracy: 0.8613\n",
            "Test loss: 0.5998098254203796, Test accuracy: 0.8612800240516663\n"
          ]
        }
      ]
    },
    {
      "cell_type": "code",
      "source": [],
      "metadata": {
        "id": "24TVeFP4HZ5A"
      },
      "execution_count": null,
      "outputs": []
    }
  ]
}