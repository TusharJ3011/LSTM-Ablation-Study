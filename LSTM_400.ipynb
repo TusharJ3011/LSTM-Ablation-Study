{
  "nbformat": 4,
  "nbformat_minor": 0,
  "metadata": {
    "colab": {
      "provenance": []
    },
    "kernelspec": {
      "name": "python3",
      "display_name": "Python 3"
    },
    "language_info": {
      "name": "python"
    },
    "accelerator": "GPU",
    "gpuClass": "standard"
  },
  "cells": [
    {
      "cell_type": "code",
      "execution_count": null,
      "metadata": {
        "id": "YYVudwV2HK8_"
      },
      "outputs": [],
      "source": [
        "import tensorflow as tf\n",
        "from tensorflow import keras\n",
        "from tensorflow.keras.layers import Input, Embedding, LSTM, Dense\n",
        "from tensorflow.keras.models import Model\n",
        "from tensorflow.keras.preprocessing.sequence import pad_sequences\n",
        "from sklearn.model_selection import train_test_split\n",
        "import numpy as np\n",
        "from keras.datasets import imdb\n"
      ]
    },
    {
      "cell_type": "code",
      "source": [
        "# Define data\n",
        "# set the maximum number of words to use\n",
        "max_num_words = 10000\n",
        "\n",
        "# set the maximum length of each sequence\n",
        "max_sequence_length = 400\n",
        "\n",
        "# load the IMDB dataset\n",
        "(x_train, y_train), (x_test, y_test) = imdb.load_data(num_words=max_num_words)\n",
        "\n",
        "# pad the sequences to a fixed length\n",
        "x_train = pad_sequences(x_train, maxlen=max_sequence_length)\n",
        "x_test = pad_sequences(x_test, maxlen=max_sequence_length)\n",
        "\n",
        "# print the shapes of the data\n",
        "print('x_train shape:', x_train.shape)\n",
        "print('y_train shape:', y_train.shape)\n",
        "print('x_test shape:', x_test.shape)\n",
        "print('y_test shape:', y_test.shape)\n"
      ],
      "metadata": {
        "id": "7cYXQDuQHXGq",
        "colab": {
          "base_uri": "https://localhost:8080/"
        },
        "outputId": "f9da69c5-34d8-44b9-ad09-c7d667dbdee4"
      },
      "execution_count": null,
      "outputs": [
        {
          "output_type": "stream",
          "name": "stdout",
          "text": [
            "Downloading data from https://storage.googleapis.com/tensorflow/tf-keras-datasets/imdb.npz\n",
            "17464789/17464789 [==============================] - 0s 0us/step\n",
            "x_train shape: (25000, 400)\n",
            "y_train shape: (25000,)\n",
            "x_test shape: (25000, 400)\n",
            "y_test shape: (25000,)\n"
          ]
        }
      ]
    },
    {
      "cell_type": "code",
      "source": [
        "# Define input shape\n",
        "input_shape = (400,)\n",
        "\n",
        "# Define input layer\n",
        "inputs = Input(shape=input_shape)\n",
        "\n",
        "# Define embedding layer\n",
        "embedding_size = 128\n",
        "vocab_size = 10000\n",
        "embeddings = Embedding(input_dim=vocab_size, output_dim=embedding_size)(inputs)\n",
        "\n",
        "# Define LSTM layer\n",
        "lstm_units = 64\n",
        "lstm_out = LSTM(units=lstm_units)(embeddings)\n",
        "\n",
        "# Define output layer\n",
        "outputs = Dense(1, activation='sigmoid')(lstm_out)\n",
        "\n",
        "# Define model\n",
        "model = Model(inputs=inputs, outputs=outputs)\n"
      ],
      "metadata": {
        "id": "Gqyt3pfUHYTX"
      },
      "execution_count": null,
      "outputs": []
    },
    {
      "cell_type": "code",
      "source": [
        "# Compile model\n",
        "model.compile(optimizer='adam', loss='binary_crossentropy', metrics=['accuracy'])\n",
        "\n",
        "# print the model summary\n",
        "model.summary()\n",
        "\n",
        "# train the model\n",
        "model.fit(x_train, y_train, epochs=10, batch_size=32, validation_split=0.2, verbose=1)\n",
        "\n",
        "# Evaluate model\n",
        "loss, accuracy = model.evaluate(x_test, y_test, batch_size=1)\n",
        "print(f'Test loss: {loss}, Test accuracy: {accuracy}')\n"
      ],
      "metadata": {
        "colab": {
          "base_uri": "https://localhost:8080/"
        },
        "id": "BdQp-JsNHY2o",
        "outputId": "1ce3310d-f6a8-496f-e5cd-4515449ccabc"
      },
      "execution_count": null,
      "outputs": [
        {
          "output_type": "stream",
          "name": "stdout",
          "text": [
            "Model: \"model\"\n",
            "_________________________________________________________________\n",
            " Layer (type)                Output Shape              Param #   \n",
            "=================================================================\n",
            " input_1 (InputLayer)        [(None, 400)]             0         \n",
            "                                                                 \n",
            " embedding (Embedding)       (None, 400, 128)          1280000   \n",
            "                                                                 \n",
            " lstm (LSTM)                 (None, 64)                49408     \n",
            "                                                                 \n",
            " dense (Dense)               (None, 1)                 65        \n",
            "                                                                 \n",
            "=================================================================\n",
            "Total params: 1,329,473\n",
            "Trainable params: 1,329,473\n",
            "Non-trainable params: 0\n",
            "_________________________________________________________________\n",
            "Epoch 1/10\n",
            "625/625 [==============================] - 93s 138ms/step - loss: 0.4167 - accuracy: 0.8088 - val_loss: 0.3429 - val_accuracy: 0.8516\n",
            "Epoch 2/10\n",
            "625/625 [==============================] - 32s 52ms/step - loss: 0.2558 - accuracy: 0.8996 - val_loss: 0.3000 - val_accuracy: 0.8778\n",
            "Epoch 3/10\n",
            "625/625 [==============================] - 21s 34ms/step - loss: 0.1876 - accuracy: 0.9305 - val_loss: 0.3271 - val_accuracy: 0.8708\n",
            "Epoch 4/10\n",
            "625/625 [==============================] - 16s 26ms/step - loss: 0.1387 - accuracy: 0.9485 - val_loss: 0.3767 - val_accuracy: 0.8660\n",
            "Epoch 5/10\n",
            "625/625 [==============================] - 14s 23ms/step - loss: 0.1040 - accuracy: 0.9632 - val_loss: 0.4173 - val_accuracy: 0.8660\n",
            "Epoch 6/10\n",
            "625/625 [==============================] - 15s 24ms/step - loss: 0.0843 - accuracy: 0.9704 - val_loss: 0.4565 - val_accuracy: 0.8484\n",
            "Epoch 7/10\n",
            "625/625 [==============================] - 11s 18ms/step - loss: 0.0706 - accuracy: 0.9762 - val_loss: 0.6154 - val_accuracy: 0.8714\n",
            "Epoch 8/10\n",
            "625/625 [==============================] - 12s 19ms/step - loss: 0.0492 - accuracy: 0.9850 - val_loss: 0.5631 - val_accuracy: 0.8568\n",
            "Epoch 9/10\n",
            "625/625 [==============================] - 12s 19ms/step - loss: 0.0474 - accuracy: 0.9849 - val_loss: 0.6838 - val_accuracy: 0.8458\n",
            "Epoch 10/10\n",
            "625/625 [==============================] - 11s 18ms/step - loss: 0.0435 - accuracy: 0.9855 - val_loss: 0.5567 - val_accuracy: 0.8632\n",
            "25000/25000 [==============================] - 156s 6ms/step - loss: 0.5956 - accuracy: 0.8556\n",
            "Test loss: 0.595633864402771, Test accuracy: 0.8555999994277954\n"
          ]
        }
      ]
    },
    {
      "cell_type": "code",
      "source": [],
      "metadata": {
        "id": "24TVeFP4HZ5A"
      },
      "execution_count": null,
      "outputs": []
    }
  ]
}